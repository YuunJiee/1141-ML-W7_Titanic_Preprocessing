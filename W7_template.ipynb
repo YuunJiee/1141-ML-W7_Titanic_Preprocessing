{
 "cells": [
  {
   "cell_type": "markdown",
   "metadata": {},
   "source": [
    "# 🧩 W7 Titanic Data Preprocessing\n",
    "\n",
    "此 Notebook 幫助你逐步完成 Titanic 資料前處理作業。\n",
    "\n",
    "- 每個任務對應 `template.py` 中的一個函式。\n",
    "- 完成後，請將程式複製回 `submit/W7_<學號>.py`。\n",
    "- 可在此 Notebook 直接測試結果是否正確。\n",
    "\n",
    "---"
   ]
  },
  {
   "cell_type": "markdown",
   "metadata": {},
   "source": [
    "## 任務 1️⃣：載入資料 (load_data)\n",
    "\n",
    "**目標：**\n",
    "- 讀取 `data/titanic.csv`\n",
    "- 將欄位名稱統一為首字母大寫（例如：`age` → `Age`）\n",
    "- 回傳資料 DataFrame 與缺失值總數"
   ]
  },
  {
   "cell_type": "code",
   "execution_count": 2,
   "metadata": {},
   "outputs": [
    {
     "name": "stdout",
     "output_type": "stream",
     "text": [
      "缺失值總數: 39\n"
     ]
    },
    {
     "data": {
      "text/html": [
       "<div>\n",
       "<style scoped>\n",
       "    .dataframe tbody tr th:only-of-type {\n",
       "        vertical-align: middle;\n",
       "    }\n",
       "\n",
       "    .dataframe tbody tr th {\n",
       "        vertical-align: top;\n",
       "    }\n",
       "\n",
       "    .dataframe thead th {\n",
       "        text-align: right;\n",
       "    }\n",
       "</style>\n",
       "<table border=\"1\" class=\"dataframe\">\n",
       "  <thead>\n",
       "    <tr style=\"text-align: right;\">\n",
       "      <th></th>\n",
       "      <th>Survived</th>\n",
       "      <th>Pclass</th>\n",
       "      <th>Sex</th>\n",
       "      <th>Age</th>\n",
       "      <th>Sibsp</th>\n",
       "      <th>Parch</th>\n",
       "      <th>Fare</th>\n",
       "      <th>Embarked</th>\n",
       "    </tr>\n",
       "  </thead>\n",
       "  <tbody>\n",
       "    <tr>\n",
       "      <th>0</th>\n",
       "      <td>1</td>\n",
       "      <td>3</td>\n",
       "      <td>male</td>\n",
       "      <td>NaN</td>\n",
       "      <td>1</td>\n",
       "      <td>1</td>\n",
       "      <td>15.2458</td>\n",
       "      <td>C</td>\n",
       "    </tr>\n",
       "    <tr>\n",
       "      <th>1</th>\n",
       "      <td>0</td>\n",
       "      <td>2</td>\n",
       "      <td>male</td>\n",
       "      <td>31.0</td>\n",
       "      <td>0</td>\n",
       "      <td>0</td>\n",
       "      <td>10.5000</td>\n",
       "      <td>S</td>\n",
       "    </tr>\n",
       "    <tr>\n",
       "      <th>2</th>\n",
       "      <td>0</td>\n",
       "      <td>3</td>\n",
       "      <td>male</td>\n",
       "      <td>20.0</td>\n",
       "      <td>0</td>\n",
       "      <td>0</td>\n",
       "      <td>7.9250</td>\n",
       "      <td>S</td>\n",
       "    </tr>\n",
       "    <tr>\n",
       "      <th>3</th>\n",
       "      <td>1</td>\n",
       "      <td>2</td>\n",
       "      <td>female</td>\n",
       "      <td>6.0</td>\n",
       "      <td>0</td>\n",
       "      <td>1</td>\n",
       "      <td>33.0000</td>\n",
       "      <td>S</td>\n",
       "    </tr>\n",
       "    <tr>\n",
       "      <th>4</th>\n",
       "      <td>1</td>\n",
       "      <td>3</td>\n",
       "      <td>female</td>\n",
       "      <td>14.0</td>\n",
       "      <td>1</td>\n",
       "      <td>0</td>\n",
       "      <td>11.2417</td>\n",
       "      <td>C</td>\n",
       "    </tr>\n",
       "  </tbody>\n",
       "</table>\n",
       "</div>"
      ],
      "text/plain": [
       "   Survived  Pclass     Sex   Age  Sibsp  Parch     Fare Embarked\n",
       "0         1       3    male   NaN      1      1  15.2458        C\n",
       "1         0       2    male  31.0      0      0  10.5000        S\n",
       "2         0       3    male  20.0      0      0   7.9250        S\n",
       "3         1       2  female   6.0      0      1  33.0000        S\n",
       "4         1       3  female  14.0      1      0  11.2417        C"
      ]
     },
     "execution_count": 2,
     "metadata": {},
     "output_type": "execute_result"
    }
   ],
   "source": [
    "import pandas as pd\n",
    "import numpy as np\n",
    "\n",
    "# TODO 1.1: 讀取 CSV\n",
    "# TODO 1.2: 統一欄位首字母大寫，並計算缺失值數量\n",
    "df = pd.read_csv(\"/workspaces/1141-ML-W7_Titanic_Preprocessing/data/titanic.csv\")\n",
    "df.columns = [c.capitalize() for c in df.columns]\n",
    "missing_count = sum(df.isnull().sum())\n",
    "\n",
    "print('缺失值總數:', missing_count)\n",
    "df.head()"
   ]
  },
  {
   "cell_type": "markdown",
   "metadata": {},
   "source": [
    "✅ **檢查點：**\n",
    "- 欄位中應該包含 `Age`, `Fare`, `Embarked` 等。\n",
    "- 缺失值數量應為整數。"
   ]
  },
  {
   "cell_type": "markdown",
   "metadata": {},
   "source": [
    "## 任務 2️⃣：處理缺失值 (handle_missing)\n",
    "\n",
    "**目標：**\n",
    "- 用 `Age` 的中位數填補缺失值\n",
    "- 用 `Embarked` 的眾數填補缺失值\n",
    "\n",
    "**提示：** 使用 `fillna()`、`median()`、`mode()[0]`"
   ]
  },
  {
   "cell_type": "code",
   "execution_count": 3,
   "metadata": {},
   "outputs": [
    {
     "data": {
      "text/plain": [
       "Survived    0\n",
       "Pclass      0\n",
       "Sex         0\n",
       "Age         0\n",
       "Sibsp       0\n",
       "Parch       0\n",
       "Fare        0\n",
       "Embarked    0\n",
       "dtype: int64"
      ]
     },
     "execution_count": 3,
     "metadata": {},
     "output_type": "execute_result"
    }
   ],
   "source": [
    "# TODO 2.1: 以 Age 中位數填補\n",
    "# TODO 2.2: 以 Embarked 眾數填補\n",
    "\n",
    "df['Age'] = df['Age'].fillna(df['Age'].median())\n",
    "df['Embarked'] = df['Embarked'].fillna(df['Embarked'].mode()[0])\n",
    "\n",
    "df.isnull().sum()"
   ]
  },
  {
   "cell_type": "markdown",
   "metadata": {},
   "source": [
    "✅ **檢查點：**\n",
    "- `Age`、`Embarked` 欄位不應再有 NaN。"
   ]
  },
  {
   "cell_type": "markdown",
   "metadata": {},
   "source": [
    "## 任務 3️⃣：移除異常值 (remove_outliers)\n",
    "\n",
    "**目標：**\n",
    "- 移除 `Fare` 超過 平均 + 3 × 標準差 的資料。\n",
    "\n",
    "**提示：** `mean()`、`std()`、布林條件篩選。"
   ]
  },
  {
   "cell_type": "code",
   "execution_count": 4,
   "metadata": {},
   "outputs": [
    {
     "name": "stdout",
     "output_type": "stream",
     "text": [
      "筆數: 195\n"
     ]
    }
   ],
   "source": [
    "# TODO 3.1: 計算 Fare 平均與標準差\n",
    "# TODO 3.2: 移除 Fare > mean + 3*std\n",
    "\n",
    "desc = df['Fare'].describe()\n",
    "df = df[df[\"Fare\"] <= desc[\"mean\"] + desc[\"std\"]*3]\n",
    "\n",
    "print('筆數:', len(df))"
   ]
  },
  {
   "cell_type": "code",
   "execution_count": 5,
   "metadata": {},
   "outputs": [
    {
     "data": {
      "image/png": "[encoded data removed]",
      "text/plain": [
       "<Figure size 500x300 with 1 Axes>"
      ]
     },
     "metadata": {},
     "output_type": "display_data"
    }
   ],
   "source": [
    "import matplotlib.pyplot as plt\n",
    "plt.figure(figsize=(5,3))\n",
    "plt.boxplot(df['Fare'])\n",
    "plt.title('Fare Boxplot (After Outlier Removal)')\n",
    "plt.show()"
   ]
  },
  {
   "cell_type": "markdown",
   "metadata": {},
   "source": [
    "✅ **檢查點：**\n",
    "- Boxplot 中應無極端高價票。"
   ]
  },
  {
   "cell_type": "markdown",
   "metadata": {},
   "source": [
    "## 任務 4️⃣：類別變數編碼 (encode_features)\n",
    "\n",
    "**目標：**\n",
    "- 對 `Sex` 和 `Embarked` 進行 One-hot 編碼。\n",
    "- 不要刪除第一個欄位（`drop_first=False`）。\n",
    "\n",
    "**提示：** 使用 `pd.get_dummies()`。"
   ]
  },
  {
   "cell_type": "code",
   "execution_count": 6,
   "metadata": {},
   "outputs": [
    {
     "data": {
      "text/html": [
       "<div>\n",
       "<style scoped>\n",
       "    .dataframe tbody tr th:only-of-type {\n",
       "        vertical-align: middle;\n",
       "    }\n",
       "\n",
       "    .dataframe tbody tr th {\n",
       "        vertical-align: top;\n",
       "    }\n",
       "\n",
       "    .dataframe thead th {\n",
       "        text-align: right;\n",
       "    }\n",
       "</style>\n",
       "<table border=\"1\" class=\"dataframe\">\n",
       "  <thead>\n",
       "    <tr style=\"text-align: right;\">\n",
       "      <th></th>\n",
       "      <th>Survived</th>\n",
       "      <th>Pclass</th>\n",
       "      <th>Age</th>\n",
       "      <th>Sibsp</th>\n",
       "      <th>Parch</th>\n",
       "      <th>Fare</th>\n",
       "      <th>Sex_female</th>\n",
       "      <th>Sex_male</th>\n",
       "      <th>Embarked_C</th>\n",
       "      <th>Embarked_Q</th>\n",
       "      <th>Embarked_S</th>\n",
       "    </tr>\n",
       "  </thead>\n",
       "  <tbody>\n",
       "    <tr>\n",
       "      <th>0</th>\n",
       "      <td>1</td>\n",
       "      <td>3</td>\n",
       "      <td>29.0</td>\n",
       "      <td>1</td>\n",
       "      <td>1</td>\n",
       "      <td>15.2458</td>\n",
       "      <td>False</td>\n",
       "      <td>True</td>\n",
       "      <td>True</td>\n",
       "      <td>False</td>\n",
       "      <td>False</td>\n",
       "    </tr>\n",
       "    <tr>\n",
       "      <th>1</th>\n",
       "      <td>0</td>\n",
       "      <td>2</td>\n",
       "      <td>31.0</td>\n",
       "      <td>0</td>\n",
       "      <td>0</td>\n",
       "      <td>10.5000</td>\n",
       "      <td>False</td>\n",
       "      <td>True</td>\n",
       "      <td>False</td>\n",
       "      <td>False</td>\n",
       "      <td>True</td>\n",
       "    </tr>\n",
       "    <tr>\n",
       "      <th>2</th>\n",
       "      <td>0</td>\n",
       "      <td>3</td>\n",
       "      <td>20.0</td>\n",
       "      <td>0</td>\n",
       "      <td>0</td>\n",
       "      <td>7.9250</td>\n",
       "      <td>False</td>\n",
       "      <td>True</td>\n",
       "      <td>False</td>\n",
       "      <td>False</td>\n",
       "      <td>True</td>\n",
       "    </tr>\n",
       "    <tr>\n",
       "      <th>3</th>\n",
       "      <td>1</td>\n",
       "      <td>2</td>\n",
       "      <td>6.0</td>\n",
       "      <td>0</td>\n",
       "      <td>1</td>\n",
       "      <td>33.0000</td>\n",
       "      <td>True</td>\n",
       "      <td>False</td>\n",
       "      <td>False</td>\n",
       "      <td>False</td>\n",
       "      <td>True</td>\n",
       "    </tr>\n",
       "    <tr>\n",
       "      <th>4</th>\n",
       "      <td>1</td>\n",
       "      <td>3</td>\n",
       "      <td>14.0</td>\n",
       "      <td>1</td>\n",
       "      <td>0</td>\n",
       "      <td>11.2417</td>\n",
       "      <td>True</td>\n",
       "      <td>False</td>\n",
       "      <td>True</td>\n",
       "      <td>False</td>\n",
       "      <td>False</td>\n",
       "    </tr>\n",
       "  </tbody>\n",
       "</table>\n",
       "</div>"
      ],
      "text/plain": [
       "   Survived  Pclass   Age  Sibsp  Parch     Fare  Sex_female  Sex_male  \\\n",
       "0         1       3  29.0      1      1  15.2458       False      True   \n",
       "1         0       2  31.0      0      0  10.5000       False      True   \n",
       "2         0       3  20.0      0      0   7.9250       False      True   \n",
       "3         1       2   6.0      0      1  33.0000        True     False   \n",
       "4         1       3  14.0      1      0  11.2417        True     False   \n",
       "\n",
       "   Embarked_C  Embarked_Q  Embarked_S  \n",
       "0        True       False       False  \n",
       "1       False       False        True  \n",
       "2       False       False        True  \n",
       "3       False       False        True  \n",
       "4        True       False       False  "
      ]
     },
     "execution_count": 6,
     "metadata": {},
     "output_type": "execute_result"
    }
   ],
   "source": [
    "# TODO 4.1: 使用 pd.get_dummies 對 Sex、Embarked 進行編碼\n",
    "df = pd.get_dummies(df, columns=['Sex'], prefix='Sex', drop_first=False)\n",
    "df = pd.get_dummies(df, columns=['Embarked'], prefix='Embarked', drop_first=False)\n",
    "\n",
    "df.head()"
   ]
  },
  {
   "cell_type": "markdown",
   "metadata": {},
   "source": [
    "✅ **檢查點：**\n",
    "- 欄位中應包含 `Sex_female`, `Sex_male`, `Embarked_S`。"
   ]
  },
  {
   "cell_type": "markdown",
   "metadata": {},
   "source": [
    "## 任務 5️⃣：數值標準化 (scale_features)\n",
    "\n",
    "**目標：**\n",
    "- 使用 `StandardScaler` 標準化 `Age`、`Fare`。\n",
    "\n",
    "**提示：** `scaler.fit_transform()`。"
   ]
  },
  {
   "cell_type": "code",
   "execution_count": 7,
   "metadata": {},
   "outputs": [
    {
     "name": "stdout",
     "output_type": "stream",
     "text": [
      "                Age          Fare\n",
      "count  1.950000e+02  1.950000e+02\n",
      "mean  -6.832142e-17 -9.337260e-17\n",
      "std    1.002574e+00  1.002574e+00\n",
      "min   -2.278542e+00 -9.834898e-01\n",
      "25%   -6.325193e-01 -6.939740e-01\n",
      "50%   -8.825118e-02 -4.533464e-01\n",
      "75%    4.560169e-01  1.632727e-01\n",
      "max    3.177358e+00  4.388998e+00\n"
     ]
    }
   ],
   "source": [
    "from sklearn.preprocessing import StandardScaler\n",
    "\n",
    "scaler = StandardScaler()\n",
    "\n",
    "# TODO 5.1: 使用 StandardScaler 標準化 Age、Fare\n",
    "df[\"Age\"] = scaler.fit_transform(df[[\"Age\"]])\n",
    "df[\"Fare\"] = scaler.fit_transform(df[[\"Fare\"]])\n",
    "\n",
    "print(df[['Age', 'Fare']].describe())"
   ]
  },
  {
   "cell_type": "markdown",
   "metadata": {},
   "source": [
    "✅ **檢查點：**\n",
    "- Age 與 Fare 的平均應接近 0，標準差應接近 1。"
   ]
  },
  {
   "cell_type": "markdown",
   "metadata": {},
   "source": [
    "## 任務 6️⃣：資料切割 (split_data)\n",
    "\n",
    "**目標：**\n",
    "- 將 `Survived` 作為 y，其餘欄位作為 X。\n",
    "- 使用 `train_test_split`，測試集比例 0.2。\n",
    "\n",
    "**提示：** 設定 `random_state=42`。"
   ]
  },
  {
   "cell_type": "code",
   "execution_count": 8,
   "metadata": {},
   "outputs": [
    {
     "name": "stdout",
     "output_type": "stream",
     "text": [
      "訓練集筆數: 156\n",
      "測試集筆數: 39\n"
     ]
    }
   ],
   "source": [
    "from sklearn.model_selection import train_test_split\n",
    "\n",
    "X = df.drop(\"Survived\", axis=1)\n",
    "Y = df[\"Survived\"]\n",
    "\n",
    "# TODO 6.1: 將 Survived 作為 y，其餘為 X\n",
    "# TODO 6.2: 使用 train_test_split 切割 (test_size=0.2, random_state=42)\n",
    "X_train, X_test, y_train, y_test = train_test_split(X, Y, test_size=0.2, random_state=42)\n",
    "\n",
    "print('訓練集筆數:', len(X_train))\n",
    "print('測試集筆數:', len(X_test))"
   ]
  },
  {
   "cell_type": "markdown",
   "metadata": {},
   "source": [
    "✅ **檢查點：**\n",
    "- 測試集應約佔 20%。"
   ]
  },
  {
   "cell_type": "markdown",
   "metadata": {},
   "source": [
    "## 任務 7️⃣：輸出結果 (save_data)\n",
    "\n",
    "**目標：**\n",
    "- 將清理後資料輸出為 `data/titanic_processed.csv`\n",
    "- 使用 `encoding='utf-8-sig'`。"
   ]
  },
  {
   "cell_type": "code",
   "execution_count": 10,
   "metadata": {},
   "outputs": [
    {
     "name": "stdout",
     "output_type": "stream",
     "text": [
      "✅ 資料處理完成並已輸出至 data/titanic_processed.csv\n"
     ]
    }
   ],
   "source": [
    "# TODO 7.1: 將清理後資料輸出為 CSV (encoding='utf-8-sig')\n",
    "\n",
    "df.to_csv('data/titanic_processed.csv', encoding='utf-8-sig')\n",
    "print('✅ 資料處理完成並已輸出至 data/titanic_processed.csv')"
   ]
  }
 ],
 "metadata": {
  "kernelspec": {
   "display_name": "Python 3 (ipykernel)",
   "language": "python",
   "name": "python3"
  }
 },
 "nbformat": 4,
 "nbformat_minor": 2
}
